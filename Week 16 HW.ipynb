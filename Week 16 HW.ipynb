{
 "cells": [
  {
   "cell_type": "code",
   "execution_count": 7,
   "metadata": {},
   "outputs": [
    {
     "name": "stdout",
     "output_type": "stream",
     "text": [
      "Opps!\n",
      "Opps!\n",
      "Opps!\n"
     ]
    }
   ],
   "source": [
    "x=0\n",
    "while x!=3:\n",
    "    print(\"Opps!\")\n",
    "    x=x+1"
   ]
  },
  {
   "cell_type": "code",
   "execution_count": 17,
   "metadata": {},
   "outputs": [],
   "source": [
    "def passwords_guess(password):\n",
    "    x=1\n",
    "    User_Password=input('What is your password? ')\n",
    "    while User_Password!=str(password):\n",
    "        User_Password=input('What is your password? ')\n",
    "        x=x+1\n",
    "    #if User_Password==str(password):\n",
    "    return(x)"
   ]
  },
  {
   "cell_type": "code",
   "execution_count": 22,
   "metadata": {},
   "outputs": [
    {
     "name": "stdout",
     "output_type": "stream",
     "text": [
      "What is your password? he\n",
      "What is your password? he\n",
      "What is your password? he\n",
      "What is your password? hello\n",
      "4 tries\n"
     ]
    }
   ],
   "source": [
    "answer=passwords_guess('hello')\n",
    "if answer==1:\n",
    "    print(answer,'try')\n",
    "else:  \n",
    "    print(answer,'tries')"
   ]
  },
  {
   "cell_type": "code",
   "execution_count": null,
   "metadata": {},
   "outputs": [],
   "source": []
  }
 ],
 "metadata": {
  "kernelspec": {
   "display_name": "Python 3",
   "language": "python",
   "name": "python3"
  },
  "language_info": {
   "codemirror_mode": {
    "name": "ipython",
    "version": 3
   },
   "file_extension": ".py",
   "mimetype": "text/x-python",
   "name": "python",
   "nbconvert_exporter": "python",
   "pygments_lexer": "ipython3",
   "version": "3.8.5"
  }
 },
 "nbformat": 4,
 "nbformat_minor": 4
}
