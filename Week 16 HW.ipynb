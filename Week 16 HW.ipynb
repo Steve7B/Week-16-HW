{
 "cells": [
  {
   "cell_type": "code",
   "execution_count": 8,
   "metadata": {},
   "outputs": [
    {
     "name": "stdout",
     "output_type": "stream",
     "text": [
      "Opps!\n",
      "Opps!\n",
      "Opps!\n"
     ]
    }
   ],
   "source": [
    "x=True\n",
    "b=0\n",
    "while x==True:\n",
    "    if b==3:\n",
    "        break\n",
    "    else:\n",
    "        print(\"Opps!\")\n",
    "        b=b+1"
   ]
  },
  {
   "cell_type": "code",
   "execution_count": 16,
   "metadata": {},
   "outputs": [],
   "source": [
    "def password_guesser(password):\n",
    "    User_Password=input('What is your password? ')\n",
    "    while User_Password!=str(password):\n",
    "        print('Wrong!')\n",
    "        User_Password=input('What is your password ')\n",
    "    print('Right')"
   ]
  },
  {
   "cell_type": "code",
   "execution_count": 17,
   "metadata": {},
   "outputs": [
    {
     "name": "stdout",
     "output_type": "stream",
     "text": [
      "What is your password?123\n",
      "Wrong!\n",
      "What is your password3\n",
      "Wrong!\n",
      "What is your passwordHelo\n",
      "Wrong!\n",
      "What is your passwordhey there\n",
      "correct\n"
     ]
    }
   ],
   "source": [
    "password_guesser(\"hey there\")"
   ]
  },
  {
   "cell_type": "code",
   "execution_count": null,
   "metadata": {},
   "outputs": [],
   "source": []
  }
 ],
 "metadata": {
  "kernelspec": {
   "display_name": "Python 3",
   "language": "python",
   "name": "python3"
  },
  "language_info": {
   "codemirror_mode": {
    "name": "ipython",
    "version": 3
   },
   "file_extension": ".py",
   "mimetype": "text/x-python",
   "name": "python",
   "nbconvert_exporter": "python",
   "pygments_lexer": "ipython3",
   "version": "3.8.5"
  }
 },
 "nbformat": 4,
 "nbformat_minor": 4
}
